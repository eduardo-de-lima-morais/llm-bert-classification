{
  "cells": [
    {
      "cell_type": "markdown",
      "metadata": {
        "id": "cIcoK38oyFMH"
      },
      "source": [
        "#Pacotes\n",
        "\n",
        "Instalação de pacotes necessários"
      ]
    },
    {
      "cell_type": "code",
      "execution_count": 65,
      "metadata": {
        "colab": {
          "base_uri": "https://localhost:8080/"
        },
        "id": "Y586bKP50NSt",
        "outputId": "47ca6122-b9de-4435-8f8f-614a4c46131a"
      },
      "outputs": [],
      "source": [
        "# %pip install --upgrade accelerate\n",
        "# %pip install --upgrade PyTorch\n",
        "# %pip install --upgrade transformers\n",
        "# %pip install --upgrade torch"
      ]
    },
    {
      "cell_type": "code",
      "execution_count": 67,
      "metadata": {
        "id": "wcx4Tka_fOat"
      },
      "outputs": [],
      "source": [
        "import pandas as pd\n",
        "from sklearn.model_selection import train_test_split\n",
        "from transformers import BertTokenizer\n",
        "import torch\n",
        "from transformers import BertForSequenceClassification\n",
        "from transformers import Trainer, TrainingArguments\n",
        "from sklearn.preprocessing import LabelEncoder\n",
        "from sklearn.datasets import fetch_20newsgroups\n",
        "import torch.nn.functional as F\n",
        "from sklearn.metrics import balanced_accuracy_score , precision_score, recall_score, f1_score"
      ]
    },
    {
      "cell_type": "code",
      "execution_count": 68,
      "metadata": {
        "colab": {
          "base_uri": "https://localhost:8080/"
        },
        "id": "ldsVUP8Mpuxo",
        "outputId": "c25acc79-5ca2-4565-c882-7b5bd61bd06d"
      },
      "outputs": [
        {
          "name": "stdout",
          "output_type": "stream",
          "text": [
            "CPU\n"
          ]
        }
      ],
      "source": [
        "if torch.cuda.is_available():\n",
        "    device = torch.device(\"cuda\")\n",
        "    print('GPU')\n",
        "else:\n",
        "    device = torch.device(\"cpu\")\n",
        "    print(\"CPU\")"
      ]
    },
    {
      "cell_type": "markdown",
      "metadata": {
        "id": "sPdJk2KmySyS"
      },
      "source": [
        "#Base\n",
        "\n",
        "Importando bases para fine-tunning"
      ]
    },
    {
      "cell_type": "code",
      "execution_count": 70,
      "metadata": {
        "colab": {
          "base_uri": "https://localhost:8080/",
          "height": 356
        },
        "id": "N40kYVv1mwdi",
        "outputId": "f722b2ff-22bf-4419-b657-79b9798b6946"
      },
      "outputs": [
        {
          "data": {
            "text/html": [
              "<div>\n",
              "<style scoped>\n",
              "    .dataframe tbody tr th:only-of-type {\n",
              "        vertical-align: middle;\n",
              "    }\n",
              "\n",
              "    .dataframe tbody tr th {\n",
              "        vertical-align: top;\n",
              "    }\n",
              "\n",
              "    .dataframe thead th {\n",
              "        text-align: right;\n",
              "    }\n",
              "</style>\n",
              "<table border=\"1\" class=\"dataframe\">\n",
              "  <thead>\n",
              "    <tr style=\"text-align: right;\">\n",
              "      <th></th>\n",
              "      <th>text</th>\n",
              "      <th>label</th>\n",
              "    </tr>\n",
              "  </thead>\n",
              "  <tbody>\n",
              "    <tr>\n",
              "      <th>0</th>\n",
              "      <td>\\n\\nDo you count yourself as one who is weak i...</td>\n",
              "      <td>1</td>\n",
              "    </tr>\n",
              "    <tr>\n",
              "      <th>1</th>\n",
              "      <td>A \"new Christian\" wrote that he was new to the...</td>\n",
              "      <td>1</td>\n",
              "    </tr>\n",
              "    <tr>\n",
              "      <th>2</th>\n",
              "      <td>\\n   This is no less logical than the assumpti...</td>\n",
              "      <td>1</td>\n",
              "    </tr>\n",
              "  </tbody>\n",
              "</table>\n",
              "</div>"
            ],
            "text/plain": [
              "                                                text  label\n",
              "0  \\n\\nDo you count yourself as one who is weak i...      1\n",
              "1  A \"new Christian\" wrote that he was new to the...      1\n",
              "2  \\n   This is no less logical than the assumpti...      1"
            ]
          },
          "metadata": {},
          "output_type": "display_data"
        }
      ],
      "source": [
        "#Escolhendo duas categorias do dataset 20newsgroups\n",
        "categories = ['talk.politics.guns', 'soc.religion.christian','comp.sys.ibm.pc.hardware']\n",
        "data = fetch_20newsgroups(subset='all', categories=categories, shuffle=True, random_state=42,remove=('headers', 'footers', 'quotes'))\n",
        "#cria df\n",
        "df = pd.DataFrame({'text': data.data,'label': data.target})\n",
        "#exibir\n",
        "display(df.head(3))"
      ]
    },
    {
      "cell_type": "markdown",
      "metadata": {
        "id": "vQtjCwXTyzsP"
      },
      "source": [
        "#Processamento"
      ]
    },
    {
      "cell_type": "code",
      "execution_count": 71,
      "metadata": {
        "id": "GNmpdjPyAQvK"
      },
      "outputs": [],
      "source": [
        "#codificador de labels\n",
        "label_encoder = LabelEncoder()\n",
        "df['label'] = label_encoder.fit_transform(df['label'])\n",
        "#dividir teste, teino e validacao\n",
        "df_train, df_test = train_test_split(df, test_size=0.2)\n",
        "df_train, df_val = train_test_split(df_train, test_size=0.2)"
      ]
    },
    {
      "cell_type": "code",
      "execution_count": 72,
      "metadata": {
        "id": "f4z4Cs9ielDh"
      },
      "outputs": [],
      "source": [
        "#definir colunas\n",
        "train_texts = df_train['text']\n",
        "val_texts = df_val['text']\n",
        "train_labels = df_train['label']\n",
        "val_labels = df_val['label']\n",
        "test_text = df_test['text']\n",
        "test_label = df_test['label']\n",
        "#Carregar o tokenizador BERT\n",
        "tokenizer = BertTokenizer.from_pretrained('bert-base-uncased')\n",
        "#tokenizar\n",
        "train_encodings = tokenizer(train_texts.tolist(), truncation=True, padding=True)\n",
        "test_encodings = tokenizer(test_text.tolist(), truncation=True, padding=True)\n",
        "val_encodings = tokenizer(val_texts.tolist(), truncation=True, padding=True)"
      ]
    },
    {
      "cell_type": "code",
      "execution_count": 73,
      "metadata": {
        "id": "ptv63yg2lm48"
      },
      "outputs": [],
      "source": [
        "class Dataset(torch.utils.data.Dataset):\n",
        "    def __init__(self, encodings, labels):\n",
        "        self.encodings = encodings\n",
        "        self.labels = labels\n",
        "\n",
        "    def __getitem__(self, idx):\n",
        "        item = {key: torch.tensor(val[idx]) for key, val in self.encodings.items()}\n",
        "        item['labels'] = torch.tensor(self.labels[idx])\n",
        "        return item\n",
        "\n",
        "    def __len__(self):\n",
        "        return len(self.labels)\n",
        "\n",
        "#Criar datasets de treinamento, teste e validação\n",
        "train_dataset = Dataset(train_encodings, train_labels.tolist())\n",
        "test_dataset = Dataset(test_encodings, test_label.tolist())\n",
        "val_dataset = Dataset(val_encodings, val_labels.tolist())"
      ]
    },
    {
      "cell_type": "markdown",
      "metadata": {
        "id": "HciwJEPh0ATn"
      },
      "source": [
        "#Modelagem"
      ]
    },
    {
      "cell_type": "code",
      "execution_count": 74,
      "metadata": {
        "id": "OIzU84Mol2It"
      },
      "outputs": [
        {
          "name": "stderr",
          "output_type": "stream",
          "text": [
            "Some weights of BertForSequenceClassification were not initialized from the model checkpoint at bert-base-uncased and are newly initialized: ['classifier.bias', 'classifier.weight']\n",
            "You should probably TRAIN this model on a down-stream task to be able to use it for predictions and inference.\n",
            "c:\\Users\\eduar\\anaconda3\\lib\\site-packages\\accelerate\\accelerator.py:432: FutureWarning: Passing the following arguments to `Accelerator` is deprecated and will be removed in version 1.0 of Accelerate: dict_keys(['dispatch_batches', 'split_batches']). Please pass an `accelerate.DataLoaderConfiguration` instead: \n",
            "dataloader_config = DataLoaderConfiguration(dispatch_batches=None, split_batches=False)\n",
            "  warnings.warn(\n"
          ]
        },
        {
          "data": {
            "application/vnd.jupyter.widget-view+json": {
              "model_id": "63953a4ea05449eaa1b1d051c87ab042",
              "version_major": 2,
              "version_minor": 0
            },
            "text/plain": [
              "  0%|          | 0/231 [00:00<?, ?it/s]"
            ]
          },
          "metadata": {},
          "output_type": "display_data"
        },
        {
          "name": "stdout",
          "output_type": "stream",
          "text": [
            "{'train_runtime': 12595.4687, 'train_samples_per_second': 0.147, 'train_steps_per_second': 0.018, 'train_loss': 0.38301558721633183, 'epoch': 1.0}\n"
          ]
        }
      ],
      "source": [
        "#define model\n",
        "model = BertForSequenceClassification.from_pretrained('bert-base-uncased', num_labels=3)\n",
        "#model.to(device)\n",
        "\n",
        "#parametros do treinamento\n",
        "training_args = TrainingArguments(\n",
        "    output_dir='./model_bert',\n",
        "    num_train_epochs=1,\n",
        "    per_device_train_batch_size=8,\n",
        "    per_device_eval_batch_size=8,\n",
        "    warmup_steps=100,\n",
        "    weight_decay=0.01,\n",
        "    logging_dir='./logs_bert',\n",
        "    logging_steps=500)\n",
        "\n",
        "#trainer\n",
        "trainer = Trainer(\n",
        "    model=model,\n",
        "    args=training_args,\n",
        "    train_dataset=train_dataset,\n",
        "    eval_dataset=val_dataset)\n",
        "\n",
        "#Iniciar treinamento\n",
        "model_train = trainer.train()"
      ]
    },
    {
      "cell_type": "markdown",
      "metadata": {
        "id": "bcM1ynvdFuNA"
      },
      "source": [
        "#Avaliação"
      ]
    },
    {
      "cell_type": "code",
      "execution_count": 75,
      "metadata": {
        "id": "csIo5o1zaFMO"
      },
      "outputs": [
        {
          "data": {
            "application/vnd.jupyter.widget-view+json": {
              "model_id": "dd16b73bd2a74119bd7e64a80cf4193c",
              "version_major": 2,
              "version_minor": 0
            },
            "text/plain": [
              "  0%|          | 0/73 [00:00<?, ?it/s]"
            ]
          },
          "metadata": {},
          "output_type": "display_data"
        },
        {
          "name": "stdout",
          "output_type": "stream",
          "text": [
            "balanced_accuracy: 0.9550374531835205\n",
            "precision_score: 0.9583653861717453\n",
            "recall_score: 0.9550374531835205\n",
            "f1_score: 0.9560608248809758\n"
          ]
        }
      ],
      "source": [
        "#Obter as previsões do modelo no conjunto de dados de teste\n",
        "predictions = trainer.predict(test_dataset)\n",
        "\n",
        "#Extrair as previsões e rótulos verdadeiros\n",
        "predicted_labels = predictions.predictions.argmax(axis=1)\n",
        "true_labels = [example['labels'] for example in test_dataset]\n",
        "\n",
        "#Calcular metricas\n",
        "accuracy = balanced_accuracy_score(true_labels, predicted_labels)\n",
        "print(\"balanced_accuracy:\", accuracy)\n",
        "precision = precision_score(true_labels, predicted_labels, average='macro')\n",
        "print(\"precision_score:\", precision)\n",
        "recall = recall_score(true_labels, predicted_labels, average='macro')\n",
        "print(\"recall_score:\", recall)\n",
        "f1 = f1_score(true_labels, predicted_labels, average='macro')\n",
        "print(\"f1_score:\", f1)"
      ]
    },
    {
      "cell_type": "code",
      "execution_count": 84,
      "metadata": {
        "id": "vqe8tdaSyhmO"
      },
      "outputs": [
        {
          "name": "stdout",
          "output_type": "stream",
          "text": [
            "Probabilities: tensor([[0.0543, 0.8984, 0.0473]])\n"
          ]
        }
      ],
      "source": [
        "#Texto para ser testado\n",
        "text = \"God Is Good\"\n",
        "encoded_input = tokenizer(text, return_tensors='pt')\n",
        "encoded_input = encoded_input.to(device)\n",
        "\n",
        "with torch.no_grad():  #economiza memória\n",
        "    outputs = model(**encoded_input)\n",
        "logits = outputs.logits\n",
        "\n",
        "#hardware,Cristianism, Gun\n",
        "probabilities = F.softmax(logits, dim=1)\n",
        "print(\"Probabilities:\", probabilities)"
      ]
    }
  ],
  "metadata": {
    "accelerator": "GPU",
    "colab": {
      "gpuType": "T4",
      "provenance": []
    },
    "kernelspec": {
      "display_name": "Python 3",
      "name": "python3"
    },
    "language_info": {
      "codemirror_mode": {
        "name": "ipython",
        "version": 3
      },
      "file_extension": ".py",
      "mimetype": "text/x-python",
      "name": "python",
      "nbconvert_exporter": "python",
      "pygments_lexer": "ipython3",
      "version": "3.9.7"
    }
  },
  "nbformat": 4,
  "nbformat_minor": 0
}
